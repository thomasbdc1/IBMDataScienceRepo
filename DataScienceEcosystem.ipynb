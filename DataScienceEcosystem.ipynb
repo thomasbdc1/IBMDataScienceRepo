{
 "cells": [
  {
   "cell_type": "markdown",
   "id": "2bbad7ac",
   "metadata": {},
   "source": [
    "# Data Science Tools and Ecosystem"
   ]
  },
  {
   "cell_type": "markdown",
   "id": "5fb18c67",
   "metadata": {},
   "source": [
    "## Author\n",
    "Thomas Brown de Colstoun"
   ]
  },
  {
   "cell_type": "markdown",
   "id": "bdf0b865",
   "metadata": {},
   "source": [
    "#### Intro:\n",
    "In this notebook, Data Science Tools and Ecosystems are summarized and looked at for newer users. "
   ]
  },
  {
   "cell_type": "markdown",
   "id": "23df09c1",
   "metadata": {},
   "source": [
    "**Objectives:**\n",
    "- Summary of Data Science Languages\n",
    "- Summary of Data Science Libraries\n",
    "- Table of Open Source Data Science Tools\n",
    "- Examples of Arithmetic in Python Jupyter Notebooks\n",
    "- Example of how to perform arithmetic"
   ]
  },
  {
   "cell_type": "markdown",
   "id": "db003723",
   "metadata": {},
   "source": [
    "#### Data Science Languages\n",
    "Some of the popular languages that Data Scientists use are:\n",
    "1. Python\n",
    "2. R/Rstudio\n",
    "3. Scala\n",
    "4. SQL\n",
    "5. Julia\n",
    "6. C++\n",
    "7. Java\n",
    "8. JavaScript\n"
   ]
  },
  {
   "cell_type": "markdown",
   "id": "9795c48f",
   "metadata": {},
   "source": [
    "#### Data Science Libraries\n",
    "Some of the commonly used libraries used by Data Scientists include:\n",
    "\n",
    "1. NumPy (Python)\n",
    "2. Pandas (Python)\n",
    "3. Matplotlib (Python)\n",
    "4. TensorFlow (Python)\n",
    "5. PyTorch (Python)\n",
    "6. Ggplot2 (R)\n"
   ]
  },
  {
   "cell_type": "markdown",
   "id": "2e666398",
   "metadata": {},
   "source": [
    "#### Table of Data Science Tools - Open Source\n",
    "| Data Science Tools |\n",
    "| ------------------ |\n",
    "| Jupyter |\n",
    "| RStudio |\n",
    "| Apache Spark |"
   ]
  },
  {
   "cell_type": "markdown",
   "id": "2d6e564f",
   "metadata": {},
   "source": [
    "### Below are a few examples of evaluating arithmetic expressions in Python\n",
    "\n",
    "4 + 5 \n",
    "\n",
    "6 * 7\n",
    "\n",
    "8  ** 9\n",
    "\n",
    "10 / 10\n"
   ]
  },
  {
   "cell_type": "code",
   "execution_count": 1,
   "id": "013484b0",
   "metadata": {},
   "outputs": [
    {
     "name": "stdout",
     "output_type": "stream",
     "text": [
      "17\n"
     ]
    }
   ],
   "source": [
    "# This is a simple arithmetic expression to multiply then add integers\n",
    "a = 3\n",
    "b = 4\n",
    "c = 5\n",
    "\n",
    "d = (a*b)+c\n",
    "print(d)"
   ]
  },
  {
   "cell_type": "code",
   "execution_count": 2,
   "id": "031fe489",
   "metadata": {},
   "outputs": [
    {
     "name": "stdout",
     "output_type": "stream",
     "text": [
      "3.3333333333333335\n"
     ]
    }
   ],
   "source": [
    "# This will convert 200 minutes to hours by dividing by 60\n",
    "\n",
    "minutes = 200\n",
    "hour = 60\n",
    "\n",
    "mintohour = minutes/hour\n",
    "print(mintohour)"
   ]
  },
  {
   "cell_type": "code",
   "execution_count": null,
   "id": "03ee8d0c",
   "metadata": {},
   "outputs": [],
   "source": []
  }
 ],
 "metadata": {
  "kernelspec": {
   "display_name": "Python 3 (ipykernel)",
   "language": "python",
   "name": "python3"
  },
  "language_info": {
   "codemirror_mode": {
    "name": "ipython",
    "version": 3
   },
   "file_extension": ".py",
   "mimetype": "text/x-python",
   "name": "python",
   "nbconvert_exporter": "python",
   "pygments_lexer": "ipython3",
   "version": "3.11.4"
  }
 },
 "nbformat": 4,
 "nbformat_minor": 5
}
